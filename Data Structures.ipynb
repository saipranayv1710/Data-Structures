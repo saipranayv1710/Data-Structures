{
 "cells": [
  {
   "cell_type": "code",
   "execution_count": 1,
   "metadata": {},
   "outputs": [],
   "source": [
    "import numpy as np\n",
    "import pandas as pd\n",
    "\n",
    "from IPython.core.interactiveshell import InteractiveShell\n",
    "InteractiveShell.ast_node_interactivity = \"all\""
   ]
  },
  {
   "cell_type": "markdown",
   "metadata": {},
   "source": [
    "### max_pairwise_product"
   ]
  },
  {
   "cell_type": "code",
   "execution_count": 62,
   "metadata": {},
   "outputs": [],
   "source": [
    "def max_pairwise_product(numbers):\n",
    "    n = len(numbers)\n",
    "    max_product = 0\n",
    "    for first in range(n):\n",
    "        for second in range(first + 1, n):\n",
    "            max_product = max(max_product,  numbers[first] * numbers[second])\n",
    "\n",
    "    return max_product"
   ]
  },
  {
   "cell_type": "code",
   "execution_count": 63,
   "metadata": {},
   "outputs": [],
   "source": [
    "# Second method to decrease the time complexity\n",
    "def max_pairwise_product_fast(numbers):\n",
    "    n = len(numbers)\n",
    "    max_product = 0\n",
    "    \n",
    "    #find max_index1\n",
    "    max1 = max(numbers)\n",
    "    max_index1 = numbers.index( max(numbers))\n",
    "    \n",
    "    max2 = 0\n",
    "    for idx,num  in enumerate(numbers):\n",
    "        if idx!=max_index1:\n",
    "            max2 = max(max2,num)\n",
    "            \n",
    "    max_product =  max1*max2\n",
    "    return max_product"
   ]
  },
  {
   "cell_type": "code",
   "execution_count": 75,
   "metadata": {},
   "outputs": [],
   "source": [
    "# Second method to decrease the time complexity\n",
    "def max_pairwise_product_fast_using_sort(numbers):\n",
    "    n = len(numbers)\n",
    "    max_product = 0\n",
    "    \n",
    "    #find max_index1\n",
    "    numbers = sorted(numbers)\n",
    "    max1 = numbers[-1]\n",
    "    max2 = numbers[-2]\n",
    "    \n",
    "    return max1*max2"
   ]
  },
  {
   "cell_type": "code",
   "execution_count": 76,
   "metadata": {},
   "outputs": [],
   "source": [
    "l = [9,4,6,8,9,7]"
   ]
  },
  {
   "cell_type": "code",
   "execution_count": 77,
   "metadata": {},
   "outputs": [
    {
     "data": {
      "text/plain": [
       "81"
      ]
     },
     "execution_count": 77,
     "metadata": {},
     "output_type": "execute_result"
    },
    {
     "data": {
      "text/plain": [
       "81"
      ]
     },
     "execution_count": 77,
     "metadata": {},
     "output_type": "execute_result"
    },
    {
     "data": {
      "text/plain": [
       "81"
      ]
     },
     "execution_count": 77,
     "metadata": {},
     "output_type": "execute_result"
    }
   ],
   "source": [
    "max_pairwise_product(l)\n",
    "max_pairwise_product_fast(l)\n",
    "max_pairwise_product_fast_using_sort(l)"
   ]
  },
  {
   "cell_type": "code",
   "execution_count": 84,
   "metadata": {},
   "outputs": [
    {
     "name": "stdout",
     "output_type": "stream",
     "text": [
      "Wall time: 120 ms\n"
     ]
    },
    {
     "data": {
      "text/plain": [
       "99860049"
      ]
     },
     "execution_count": 84,
     "metadata": {},
     "output_type": "execute_result"
    }
   ],
   "source": [
    "%%time\n",
    "# Using random number generation\n",
    "l = list(np.random.randint(0,10000,1000))\n",
    "# print(l, sorted(l))\n",
    "max_pairwise_product(l)"
   ]
  },
  {
   "cell_type": "code",
   "execution_count": 85,
   "metadata": {},
   "outputs": [
    {
     "name": "stdout",
     "output_type": "stream",
     "text": [
      "Wall time: 0 ns\n"
     ]
    },
    {
     "data": {
      "text/plain": [
       "99860049"
      ]
     },
     "execution_count": 85,
     "metadata": {},
     "output_type": "execute_result"
    }
   ],
   "source": [
    "%%time\n",
    "max_pairwise_product_fast(l)"
   ]
  },
  {
   "cell_type": "code",
   "execution_count": 86,
   "metadata": {},
   "outputs": [
    {
     "name": "stdout",
     "output_type": "stream",
     "text": [
      "Wall time: 0 ns\n"
     ]
    },
    {
     "data": {
      "text/plain": [
       "99860049"
      ]
     },
     "execution_count": 86,
     "metadata": {},
     "output_type": "execute_result"
    }
   ],
   "source": [
    "%%time\n",
    "max_pairwise_product_fast_using_sort(l)"
   ]
  },
  {
   "cell_type": "markdown",
   "metadata": {},
   "source": [
    "###  Fibonacci series"
   ]
  },
  {
   "cell_type": "code",
   "execution_count": 16,
   "metadata": {},
   "outputs": [],
   "source": [
    "# Using recursion\n",
    "def fib(n):\n",
    "    if n<=1:\n",
    "        return n\n",
    "    elif n>1:\n",
    "        return fib(n-1)+fib(n-2)"
   ]
  },
  {
   "cell_type": "code",
   "execution_count": 17,
   "metadata": {},
   "outputs": [
    {
     "name": "stdout",
     "output_type": "stream",
     "text": [
      "10\n",
      "55\n"
     ]
    }
   ],
   "source": [
    "n = int(input())\n",
    "print(fib(n))"
   ]
  },
  {
   "cell_type": "markdown",
   "metadata": {},
   "source": [
    "https://www.google.com/url?sa=i&url=https%3A%2F%2Fsebhastian.com%2Ffibonacci-recursion-javascript%2F&psig=AOvVaw3XK3n21sDpLiE73jXZVQFv&ust=1631093857419000&source=images&cd=vfe&ved=0CAsQjRxqFwoTCLj7j6rI7PICFQAAAAAdAAAAABAD"
   ]
  },
  {
   "cell_type": "markdown",
   "metadata": {},
   "source": [
    "Here in recursive method in the above link if you see we are computing the f(n-2) multiple times and similarly f(n-3) \n",
    "and so on as the chain increases.\n",
    "Which is resulting in the increase of time. So, we need to memorize/store the previously computed values and as\n",
    "we are going to use them further. Best solution may store the list but the time complexity is very less compared to solution1"
   ]
  },
  {
   "cell_type": "markdown",
   "metadata": {},
   "source": [
    "**Look at the tool boxes folder downloaded for slides**\n",
    "\n",
    "C:\\Users\\LENOVO\\Desktop\\Data Structures\\toolbox_slides"
   ]
  },
  {
   "cell_type": "code",
   "execution_count": 35,
   "metadata": {},
   "outputs": [],
   "source": [
    "# Best solution \n",
    "def fibonacci(num):\n",
    "    # F0=0 and F1=1\n",
    "    if num <=1:\n",
    "        return num\n",
    "    \n",
    "    l = [0,1]\n",
    "    for i in range(num-1):\n",
    "        l.append( l[-2]+l[-1] )\n",
    "    \n",
    "    return l[num]"
   ]
  },
  {
   "cell_type": "code",
   "execution_count": 36,
   "metadata": {},
   "outputs": [
    {
     "data": {
      "text/plain": [
       "(1, 1, 2, 55, 6765)"
      ]
     },
     "execution_count": 36,
     "metadata": {},
     "output_type": "execute_result"
    }
   ],
   "source": [
    "fibonacci(1), fibonacci(2) , fibonacci(3) ,fibonacci(10) ,fibonacci(20)"
   ]
  },
  {
   "cell_type": "code",
   "execution_count": 16,
   "metadata": {},
   "outputs": [],
   "source": [
    "# We don't have to store n numbers in a list to compute the Fib(n) which we are doing above\n",
    "# All we have to do is to store the n-1 and n-2 numbers to compute n\n",
    "\n",
    "def fibonacci(num):\n",
    "    if num<=1:\n",
    "        return num\n",
    "    \n",
    "    prev, curr = 0,1\n",
    "    for _ in range(num-1):\n",
    "        prev,curr = curr, prev+curr\n",
    "    return curr"
   ]
  },
  {
   "cell_type": "code",
   "execution_count": 38,
   "metadata": {},
   "outputs": [
    {
     "data": {
      "text/plain": [
       "(1, 1, 2, 55, 6765)"
      ]
     },
     "execution_count": 38,
     "metadata": {},
     "output_type": "execute_result"
    }
   ],
   "source": [
    "fibonacci(1), fibonacci(2) , fibonacci(3) ,fibonacci(10) ,fibonacci(20)"
   ]
  },
  {
   "cell_type": "markdown",
   "metadata": {},
   "source": [
    "### GCD"
   ]
  },
  {
   "cell_type": "code",
   "execution_count": 18,
   "metadata": {},
   "outputs": [],
   "source": [
    "# Naive Approach\n",
    "# Numbers shud be > 2\n",
    "def GCD(a,b):\n",
    "    l = []\n",
    "    for num in range(1,min(a,b)+1):\n",
    "        if a%num==0 and b%num==0:\n",
    "            l.append(num)\n",
    "    return max(l)"
   ]
  },
  {
   "cell_type": "code",
   "execution_count": 19,
   "metadata": {},
   "outputs": [
    {
     "name": "stdout",
     "output_type": "stream",
     "text": [
      "Wall time: 248 ms\n"
     ]
    },
    {
     "data": {
      "text/plain": [
       "61232"
      ]
     },
     "execution_count": 19,
     "metadata": {},
     "output_type": "execute_result"
    }
   ],
   "source": [
    "%%time\n",
    "GCD(10,4)\n",
    "GCD(12,144)\n",
    "GCD(3918848,1653264)"
   ]
  },
  {
   "cell_type": "markdown",
   "metadata": {},
   "source": [
    "**Look at the tool boxes folder downloaded for slides -- archive folder provided**\n",
    "\n",
    "C:\\Users\\LENOVO\\Desktop\\Data Structures\\toolbox_slides"
   ]
  },
  {
   "cell_type": "code",
   "execution_count": 26,
   "metadata": {},
   "outputs": [],
   "source": [
    "#using recursion\n",
    "def Euclid_GCD(a,b):\n",
    "    if b==0:\n",
    "        return a\n",
    "    else:\n",
    "        rem = a%b\n",
    "        return Euclid_GCD(b,rem)"
   ]
  },
  {
   "cell_type": "code",
   "execution_count": 27,
   "metadata": {},
   "outputs": [
    {
     "name": "stdout",
     "output_type": "stream",
     "text": [
      "Wall time: 0 ns\n"
     ]
    },
    {
     "data": {
      "text/plain": [
       "61232"
      ]
     },
     "execution_count": 27,
     "metadata": {},
     "output_type": "execute_result"
    }
   ],
   "source": [
    "%%time\n",
    "Euclid_GCD(3918848,1653264)"
   ]
  },
  {
   "cell_type": "code",
   "execution_count": 28,
   "metadata": {},
   "outputs": [
    {
     "data": {
      "text/plain": [
       "3"
      ]
     },
     "execution_count": 28,
     "metadata": {},
     "output_type": "execute_result"
    }
   ],
   "source": [
    "Euclid_GCD(357,234)"
   ]
  },
  {
   "cell_type": "markdown",
   "metadata": {},
   "source": [
    " ## Programming Assignment 2: Algorithmic Warm-up"
   ]
  },
  {
   "cell_type": "markdown",
   "metadata": {},
   "source": [
    "###   "
   ]
  },
  {
   "cell_type": "code",
   "execution_count": 6,
   "metadata": {},
   "outputs": [],
   "source": [
    "def fibonacci(num):\n",
    "    if num<=1:\n",
    "        return num\n",
    "    \n",
    "    prev, curr = 0,1\n",
    "    for _ in range(2,num+1):\n",
    "        prev,curr = curr, prev+curr\n",
    "    return curr"
   ]
  },
  {
   "cell_type": "code",
   "execution_count": 7,
   "metadata": {},
   "outputs": [
    {
     "data": {
      "text/plain": [
       "2"
      ]
     },
     "execution_count": 7,
     "metadata": {},
     "output_type": "execute_result"
    }
   ],
   "source": [
    "fibonacci(3)"
   ]
  },
  {
   "cell_type": "markdown",
   "metadata": {},
   "source": [
    "###  Last digit of Fibbonacci number"
   ]
  },
  {
   "cell_type": "code",
   "execution_count": null,
   "metadata": {},
   "outputs": [],
   "source": [
    "# Uses python3\n",
    "def fibonacci(num):\n",
    "    # F0=0 and F1=1\n",
    "    l = [0,1]\n",
    "    for i in range(2,num+1):\n",
    "        l.append( (l[-2]+l[-1])%10 )\n",
    "    \n",
    "    return l[num]\n",
    "\n",
    "n = int(input())\n",
    "print(fibonacci(n))\n"
   ]
  },
  {
   "cell_type": "markdown",
   "metadata": {},
   "source": [
    "###   "
   ]
  },
  {
   "cell_type": "code",
   "execution_count": 20,
   "metadata": {},
   "outputs": [],
   "source": [
    "def gcd(a,b):\n",
    "    if b==0:\n",
    "        return a\n",
    "    else:\n",
    "        return gcd(b, a%b)"
   ]
  },
  {
   "cell_type": "code",
   "execution_count": 29,
   "metadata": {},
   "outputs": [
    {
     "data": {
      "text/plain": [
       "20"
      ]
     },
     "execution_count": 29,
     "metadata": {},
     "output_type": "execute_result"
    },
    {
     "data": {
      "text/plain": [
       "61232"
      ]
     },
     "execution_count": 29,
     "metadata": {},
     "output_type": "execute_result"
    }
   ],
   "source": [
    "gcd(20,500)\n",
    "gcd(3918848,1653264)"
   ]
  },
  {
   "cell_type": "code",
   "execution_count": 3,
   "metadata": {},
   "outputs": [
    {
     "name": "stdout",
     "output_type": "stream",
     "text": [
      "28851538 1183019\n",
      "17657\n"
     ]
    }
   ],
   "source": [
    "# Uses python3\n",
    "import sys\n",
    "\n",
    "def gcd(a,b):\n",
    "    if b==0:\n",
    "        return a\n",
    "    else:\n",
    "        return gcd(b, a%b)\n",
    "\n",
    "if __name__ == \"__main__\":\n",
    "    a, b = map(int, input().split())\n",
    "    print(gcd(a, b))"
   ]
  },
  {
   "cell_type": "markdown",
   "metadata": {},
   "source": [
    "###  LCM"
   ]
  },
  {
   "cell_type": "code",
   "execution_count": 12,
   "metadata": {},
   "outputs": [
    {
     "name": "stdout",
     "output_type": "stream",
     "text": [
      "28851538 1183019\n",
      "1933053046\n"
     ]
    }
   ],
   "source": [
    "def lcm(a,b):\n",
    "    num = max(a,b)\n",
    "    i=1\n",
    "    while True\n",
    "        if (num*i)%a==0 and (num*i)%b==0:\n",
    "            return num*i\n",
    "        i+=1\n",
    "        \n",
    "if __name__ =='__main__':\n",
    "    a,b = map(int, input().split())\n",
    "    print(lcm(a,b))"
   ]
  },
  {
   "cell_type": "code",
   "execution_count": 10,
   "metadata": {},
   "outputs": [
    {
     "data": {
      "text/plain": [
       "1933053046"
      ]
     },
     "execution_count": 10,
     "metadata": {},
     "output_type": "execute_result"
    }
   ],
   "source": [
    "lcm(28851538,1183019)"
   ]
  },
  {
   "cell_type": "markdown",
   "metadata": {},
   "source": [
    "### Fibonacci modulus"
   ]
  },
  {
   "cell_type": "code",
   "execution_count": 40,
   "metadata": {},
   "outputs": [],
   "source": [
    "#C:/Users/LENOVO/Desktop/Data%20Structures/toolbox2108212108/week2_algorithmic_warmup/week2_algorithmic_warmup.pdf"
   ]
  },
  {
   "cell_type": "code",
   "execution_count": 106,
   "metadata": {},
   "outputs": [],
   "source": [
    "# Fibonacci code\n",
    "def fibonacci(num):\n",
    "    if num<=1:\n",
    "        return num\n",
    "    \n",
    "    prev, curr = 0,1\n",
    "    for _ in range(num-1):\n",
    "        prev,curr = curr, prev+curr\n",
    "    return curr"
   ]
  },
  {
   "cell_type": "code",
   "execution_count": 107,
   "metadata": {},
   "outputs": [],
   "source": [
    "# https://www.geeksforgeeks.org/fibonacci-number-modulo-m-and-pisano-period/\n",
    "# https://en.wikipedia.org/wiki/Pisano_period#Pisano_periods_of_Fibonacci_numbers\n",
    "# Code in inspired from above pages and with slight modifications\n",
    "# The period always starts with 01 and is known as Pisano period.\n",
    "\n",
    "def pisano_period(m):\n",
    "    \n",
    "    prev,curr = 0,1\n",
    "    \n",
    "    # The length of a Pisano Period for a given m ranges from 3 to m * m\n",
    "    for i in range(0,m*m):\n",
    "        prev,curr = curr, (prev+curr)%m\n",
    "        \n",
    "        #As period start with 0 and 1 and Return period_length\n",
    "        if prev==0 and curr==1:\n",
    "            return i+1"
   ]
  },
  {
   "cell_type": "code",
   "execution_count": 88,
   "metadata": {},
   "outputs": [],
   "source": [
    "# for m in range(2,30):\n",
    "#     print(pisano_period(m))"
   ]
  },
  {
   "cell_type": "code",
   "execution_count": 91,
   "metadata": {},
   "outputs": [
    {
     "data": {
      "text/plain": [
       "20"
      ]
     },
     "execution_count": 91,
     "metadata": {},
     "output_type": "execute_result"
    }
   ],
   "source": [
    "pisano_period(5)"
   ]
  },
  {
   "cell_type": "code",
   "execution_count": 99,
   "metadata": {},
   "outputs": [],
   "source": [
    "# As explained in the week2_algorithmic_warmup.pdf\n",
    "# For F(2019) mod 5  the period_length will be 20\n",
    "# 2019/20 = 19 ; new n will be 19 - F19 mod 5 \n",
    "# Idea here is insted of computing F2019, we compute F19 to get the answer\n",
    "\n",
    "def fibonacci_mod(n,m):\n",
    "    \n",
    "    period_length = pisano_period(m)\n",
    "    n = n%period_length\n",
    "    \n",
    "    #Now compute the mod for F(new_n)\n",
    "    return fibonacci(n)%m"
   ]
  },
  {
   "cell_type": "code",
   "execution_count": 100,
   "metadata": {},
   "outputs": [
    {
     "data": {
      "text/plain": [
       "185"
      ]
     },
     "execution_count": 100,
     "metadata": {},
     "output_type": "execute_result"
    },
    {
     "data": {
      "text/plain": [
       "1"
      ]
     },
     "execution_count": 100,
     "metadata": {},
     "output_type": "execute_result"
    }
   ],
   "source": [
    "fibonacci_mod(1548276540,235)\n",
    "\n",
    "fibonacci_mod(9999999999999,2)"
   ]
  },
  {
   "cell_type": "code",
   "execution_count": 101,
   "metadata": {},
   "outputs": [
    {
     "data": {
      "text/plain": [
       "3"
      ]
     },
     "execution_count": 101,
     "metadata": {},
     "output_type": "execute_result"
    }
   ],
   "source": [
    "pisano_period(2)"
   ]
  },
  {
   "cell_type": "markdown",
   "metadata": {},
   "source": [
    "### Last Digit of the Sum of Fibonacci Numbers"
   ]
  },
  {
   "cell_type": "markdown",
   "metadata": {},
   "source": [
    "#### Method-1 (not best) without using pisano period\n",
    "But better for smaller numbers. and it is used in the better solution for optimisation"
   ]
  },
  {
   "cell_type": "code",
   "execution_count": 28,
   "metadata": {},
   "outputs": [],
   "source": [
    "def last_digit_of_sum_of_fibonacci(n):\n",
    "    \n",
    "    if n==0:\n",
    "        return 0\n",
    "    elif n==1:\n",
    "        return 1\n",
    "    \n",
    "    # fib0 + fib1 =1 , fib(2) as so on will be added in the loop\n",
    "    summ = 1\n",
    "    prev,curr = 0,1\n",
    "    for _ in range(n-1):\n",
    "        prev,curr = curr, (prev+curr)%10\n",
    "        summ+=curr\n",
    "        \n",
    "    return summ%10"
   ]
  },
  {
   "cell_type": "code",
   "execution_count": 44,
   "metadata": {},
   "outputs": [
    {
     "data": {
      "text/plain": [
       "4"
      ]
     },
     "execution_count": 44,
     "metadata": {},
     "output_type": "execute_result"
    },
    {
     "data": {
      "text/plain": [
       "5"
      ]
     },
     "execution_count": 44,
     "metadata": {},
     "output_type": "execute_result"
    },
    {
     "data": {
      "text/plain": [
       "8"
      ]
     },
     "execution_count": 44,
     "metadata": {},
     "output_type": "execute_result"
    }
   ],
   "source": [
    "last_digit_of_sum_of_fibonacci(3)  # means f0+f1+f2+f3 last_digit\n",
    "last_digit_of_sum_of_fibonacci(100)\n",
    "last_digit_of_sum_of_fibonacci(210)"
   ]
  },
  {
   "cell_type": "code",
   "execution_count": 8,
   "metadata": {},
   "outputs": [],
   "source": [
    "# Here we are iterating loop n-times to get last digit of n fibonacci numbers\n",
    "# We know to extract the last digit we have to do mod of 10 \n",
    "# We know mod of 10 can be done using pisano period of fibonacci numbers"
   ]
  },
  {
   "cell_type": "markdown",
   "metadata": {},
   "source": [
    "#### Method-2 Best with pisano period"
   ]
  },
  {
   "cell_type": "code",
   "execution_count": 10,
   "metadata": {},
   "outputs": [],
   "source": [
    "# Length of period when period = m\n",
    "def pisano_period(m):\n",
    "    \n",
    "    prev,curr = 0,1\n",
    "    \n",
    "    # length of period ranges btw 3 and m*m \n",
    "    for i in range(0,m*m):\n",
    "        prev,curr = curr, (prev+curr)%m\n",
    "        \n",
    "        if prev==0 and curr==1:\n",
    "            return i+1"
   ]
  },
  {
   "cell_type": "code",
   "execution_count": 24,
   "metadata": {
    "scrolled": true
   },
   "outputs": [
    {
     "data": {
      "text/plain": [
       "60"
      ]
     },
     "execution_count": 24,
     "metadata": {},
     "output_type": "execute_result"
    }
   ],
   "source": [
    "pisano_period(10)"
   ]
  },
  {
   "cell_type": "code",
   "execution_count": 48,
   "metadata": {},
   "outputs": [],
   "source": [
    "def BestMethod_for_Last_digit_sum_of_fib_numbers(n):\n",
    "        period_length = 60  # pisano_period(10)\n",
    "\n",
    "        # For ex: we have to get sum of last digits of n - fib numbers\n",
    "        # lets say sum till F123 - to get last digit we can use period 10\n",
    "        # perfect_bin1, perfect_bin2, remiander_bin = f0-f59, f60-119, f120-f123 \n",
    "        # This can be wriiten as (f0-f59)*2 + (f0-f3)\n",
    "\n",
    "        # To compute no of perfect bins\n",
    "        cnt_of_perfect_bins = n//period_length\n",
    "\n",
    "        # reminder bin length =  f120-f123 = f0-f3 = last_digit_of_sum_of_fibonacci(3)\n",
    "        rem_bin_len = (n%period_length)\n",
    "\n",
    "        # get sum - f0-f59\n",
    "        perfect_bin_sum = last_digit_of_sum_of_fibonacci(60-1)\n",
    "        all_perfect_bins_sum = cnt_of_perfect_bins * perfect_bin_sum\n",
    "\n",
    "        # last_digit_of_sum_of_fibonacci(3) \n",
    "        remainder_bin_sum = last_digit_of_sum_of_fibonacci(rem_bin_len)\n",
    "\n",
    "        return (all_perfect_bins_sum+remainder_bin_sum)%10"
   ]
  },
  {
   "cell_type": "code",
   "execution_count": 49,
   "metadata": {},
   "outputs": [
    {
     "data": {
      "text/plain": [
       "8"
      ]
     },
     "execution_count": 49,
     "metadata": {},
     "output_type": "execute_result"
    }
   ],
   "source": [
    "BestMethod_for_Last_digit_sum_of_fib_numbers(210)"
   ]
  },
  {
   "cell_type": "markdown",
   "metadata": {},
   "source": [
    "#### without using method1 in the function \n",
    "\n",
    "The period 60 fibs_last digits are stored in a list"
   ]
  },
  {
   "cell_type": "code",
   "execution_count": 55,
   "metadata": {},
   "outputs": [
    {
     "data": {
      "text/plain": [
       "8"
      ]
     },
     "execution_count": 55,
     "metadata": {},
     "output_type": "execute_result"
    }
   ],
   "source": [
    "def second_BestMethod_for_Last_digit_sum_of_fib_numbers(n):\n",
    "\n",
    "    period_length = 60  # pisano_period(10)\n",
    "\n",
    "    # For ex: we have to get sum of last digits of n - fib numbers\n",
    "    # lets sum till F123 - to get last digit we can use period 10\n",
    "    # perfect_bin1, perfect_bin2, remiander_bin = f0-f59, f60-119, f120-f123 \n",
    "    # This can (f0-f59)*2 + (f0-f3)\n",
    "\n",
    "    # To compute no of perfect bins\n",
    "    cnt_of_perfect_bins = n//period_length\n",
    "\n",
    "    # reminder bin length =  f120-f123 = f0-f3 = last_digit_of_sum_of_fibonacci(3)\n",
    "    rem = (n%period_length)\n",
    "\n",
    "    # As the period is only 60, if we store the last digits of first 60 fibonacci numbers in a list to would be easy to compute\n",
    "    # f0-f59 last digits should be stored in a list\n",
    "    list_60 = [0,1]\n",
    "    prev,curr = 0,1\n",
    "    for _ in range(2,60):\n",
    "        prev,curr = curr, (prev+curr)%10\n",
    "        list_60.append( curr )\n",
    "\n",
    "    # get sum - f0-f59\n",
    "    perfect_bin_sum = sum(list_60)%10\n",
    "    all_perfect_bins_sum = cnt_of_perfect_bins * perfect_bin_sum\n",
    "\n",
    "    # last_digit_of_sum_of_fibonacci(3) \n",
    "    remainder_bin_sum = sum(list_60[:rem+1])%10\n",
    "\n",
    "    return (all_perfect_bins_sum+remainder_bin_sum) %10"
   ]
  },
  {
   "cell_type": "code",
   "execution_count": 51,
   "metadata": {},
   "outputs": [
    {
     "data": {
      "text/plain": [
       "[0, 1, 1]"
      ]
     },
     "execution_count": 51,
     "metadata": {},
     "output_type": "execute_result"
    }
   ],
   "source": [
    "list_60[:3]"
   ]
  },
  {
   "cell_type": "code",
   "execution_count": null,
   "metadata": {},
   "outputs": [],
   "source": []
  },
  {
   "cell_type": "markdown",
   "metadata": {},
   "source": [
    "### Last Digit of the Sum of Fibonacci Numbers Again"
   ]
  },
  {
   "cell_type": "markdown",
   "metadata": {},
   "source": [
    "#### General method without using Pisano period"
   ]
  },
  {
   "cell_type": "code",
   "execution_count": 132,
   "metadata": {},
   "outputs": [],
   "source": [
    "#Partial sum\n",
    "# lets say from f100 to f120\n",
    "\n",
    "\n",
    "def partial_fibo_sum(m,n):\n",
    "    \n",
    "    if n==0:\n",
    "        return 0\n",
    "    elif n==1:\n",
    "        return 1\n",
    "    \n",
    "    # fib0 + fib1 =1 , fib(2) and so on will be added in the loop\n",
    "    summ = 0\n",
    "    prev,curr = 0,1\n",
    "    for i in range(2,n+1):\n",
    "        prev,curr = curr, prev+curr\n",
    "        if i>=m:\n",
    "            summ+=curr%10\n",
    "        \n",
    "    return summ%10"
   ]
  },
  {
   "cell_type": "code",
   "execution_count": 134,
   "metadata": {},
   "outputs": [
    {
     "data": {
      "text/plain": [
       "1"
      ]
     },
     "execution_count": 134,
     "metadata": {},
     "output_type": "execute_result"
    },
    {
     "data": {
      "text/plain": [
       "2"
      ]
     },
     "execution_count": 134,
     "metadata": {},
     "output_type": "execute_result"
    }
   ],
   "source": [
    "partial_fibo_sum(3,7)\n",
    "partial_fibo_sum(10,200)"
   ]
  },
  {
   "cell_type": "markdown",
   "metadata": {},
   "source": [
    "#### using pisano period"
   ]
  },
  {
   "cell_type": "code",
   "execution_count": 3,
   "metadata": {},
   "outputs": [
    {
     "name": "stdout",
     "output_type": "stream",
     "text": [
      "10 200\n",
      "2\n"
     ]
    }
   ],
   "source": [
    "# Uses python3\n",
    "\n",
    "# Length of period when period = m\n",
    "def pisano_period(m):\n",
    "    \n",
    "    prev,curr = 0,1\n",
    "    \n",
    "    # length of period ranges btw 3 and m*m \n",
    "    for i in range(0,m*m):\n",
    "        prev,curr = curr, (prev+curr)%m\n",
    "        \n",
    "        if prev==0 and curr==1:\n",
    "            return i+1\n",
    "\n",
    "\n",
    "def second_BestMethod_for_Last_digit_sum_of_fib_numbers(n):\n",
    "\n",
    "    period_length = 60  # pisano_period(10)\n",
    "\n",
    "    # For ex: we have to get sum of last digits of n - fib numbers\n",
    "    # lets sum till F123 - to get last digit we can use period 10\n",
    "    # perfect_bin1, perfect_bin2, remiander_bin = f0-f59, f60-119, f120-f123 \n",
    "    # This can (f0-f59)*2 + (f0-f3)\n",
    "\n",
    "    # To compute no of perfect bins\n",
    "    cnt_of_perfect_bins = n//period_length\n",
    "\n",
    "    # reminder bin length =  f120-f123 = f0-f3 = last_digit_of_sum_of_fibonacci(3)\n",
    "    rem = (n%period_length)\n",
    "\n",
    "    # As the period is only 60, if we store the last digits of first 60 fibonacci numbers in a list to would be easy to compute\n",
    "    # f0-f59 last digits should be stored in a list\n",
    "    list_60 = [0,1]\n",
    "    prev,curr = 0,1\n",
    "    for _ in range(2,60):\n",
    "        prev,curr = curr, (prev+curr)%10\n",
    "        list_60.append( curr )\n",
    "\n",
    "    # get sum - f0-f59\n",
    "    perfect_bin_sum = sum(list_60)%10\n",
    "    all_perfect_bins_sum = cnt_of_perfect_bins * perfect_bin_sum\n",
    "\n",
    "    # last_digit_of_sum_of_fibonacci(3) \n",
    "    remainder_bin_sum = sum(list_60[:rem+1])%10\n",
    "\n",
    "    return (all_perfect_bins_sum+remainder_bin_sum) %10\n",
    "\n",
    "\n",
    "def fibo_partial_sum(m,n):\n",
    "\n",
    "    #sum(f62 to f65) = f65 - f61\n",
    "    #partial_sum_fib(m,n) =  f(n) - f(m-1)\n",
    "\n",
    "    #instead of considering complete numbers we are considering last digits here\n",
    "    # Ex:  23-19 = 4 but with last digits: 3-9 = -5 (as there nothing to carry from the first number)\n",
    "    # To rectify this we have to add 10 10+3-4:   13-9 = 4\n",
    "    first = second_BestMethod_for_Last_digit_sum_of_fib_numbers(n)\n",
    "    second = second_BestMethod_for_Last_digit_sum_of_fib_numbers(m-1)\n",
    "\n",
    "    if first>=second:\n",
    "        return first-second\n",
    "    else:\n",
    "        return (10+first)-second\n",
    "    #return second_BestMethod_for_Last_digit_sum_of_fib_numbers(n) - second_BestMethod_for_Last_digit_sum_of_fib_numbers(m-1)\n",
    "\n",
    "if __name__ == '__main__':\n",
    "    from_, to = map(int, input().split())\n",
    "    print(fibo_partial_sum(from_, to))"
   ]
  },
  {
   "cell_type": "markdown",
   "metadata": {},
   "source": [
    "### Last Digit of the Sum of Squares of Fibonacci Numbers"
   ]
  },
  {
   "cell_type": "markdown",
   "metadata": {},
   "source": [
    "#### Document hint"
   ]
  },
  {
   "cell_type": "code",
   "execution_count": 51,
   "metadata": {},
   "outputs": [
    {
     "name": "stdout",
     "output_type": "stream",
     "text": [
      "7\n",
      "3\n"
     ]
    }
   ],
   "source": [
    "# file:///C:/Users/LENOVO/Desktop/Data%20Structures/toolbox2108212108/week2_algorithmic_warmup/week2_algorithmic_warmup.pdf\n",
    "# From the Hint mentioned in the above doc\n",
    "# f0=0\n",
    "# f1**2 + f2**2 +...+ f5**2    =    f5 * (f5+f4)\n",
    "\n",
    "def las_digit_fib(n):\n",
    "    # As we know the length of the period(10) of fibonacci_last digit is 60\n",
    "    list_60 = [0,1]\n",
    "    prev,curr = 0,1\n",
    "    for _ in range(2,60):\n",
    "        prev,curr = curr, (prev+curr)%10\n",
    "        list_60.append( curr )\n",
    "\n",
    "    rem = n%60\n",
    "    return list_60[rem]\n",
    "\n",
    "def squares_fibo(n):\n",
    "    if n<=1:\n",
    "        return n\n",
    "    else:\n",
    "        f5 = las_digit_fib(n)\n",
    "        f4 = las_digit_fib(n-1)\n",
    "\n",
    "        return (f5 * (f5+f4))%10\n",
    "\n",
    "if __name__ == '__main__':\n",
    "    n = int(input())\n",
    "    print(squares_fibo(n))"
   ]
  },
  {
   "cell_type": "markdown",
   "metadata": {},
   "source": [
    "#### Own method"
   ]
  },
  {
   "cell_type": "code",
   "execution_count": 32,
   "metadata": {},
   "outputs": [],
   "source": [
    "# Uses python3\n",
    "\n",
    "# Length of period when period = m\n",
    "def pisano_period(m):\n",
    "    \n",
    "    prev,curr = 0,1\n",
    "    \n",
    "    # length of period ranges btw 3 and m*m \n",
    "    for i in range(0,m*m):\n",
    "        prev,curr = curr, (prev+curr)%m\n",
    "        \n",
    "        if prev==0 and curr==1:\n",
    "            return i+1\n",
    "\n",
    "\n",
    "def Last_digit_sum_of_SQUARES_of_fib_numbers(n):\n",
    "\n",
    "    period_length = 60  # pisano_period(10)\n",
    "\n",
    "    # For ex: we have to get sum of last digits of n - fib numbers\n",
    "    # lets sum till F123 - to get last digit we can use period 10\n",
    "    # perfect_bin1, perfect_bin2, remiander_bin = f0-f59, f60-119, f120-f123 \n",
    "    # This can (f0-f59)*2 + (f0-f3)\n",
    "\n",
    "    # To compute no of perfect bins\n",
    "    cnt_of_perfect_bins = n//period_length\n",
    "\n",
    "    # reminder bin length =  f120-f123 = f0-f3 = last_digit_of_sum_of_fibonacci(3)\n",
    "    rem = (n%period_length)\n",
    "\n",
    "    # As the period is only 60, if we store the last digits of first 60 fibonacci numbers in a list to would be easy to compute\n",
    "    # f0-f59 last digits should be stored in a list\n",
    "    list_60 = [0,1]\n",
    "    prev,curr = 0,1\n",
    "    for _ in range(2,60):\n",
    "        prev,curr = curr, (prev+curr)%10\n",
    "        list_60.append( curr )\n",
    "    \n",
    "    # IMPORTANT: To compute the sum-of-squares of the all fibo numbers, we need squares of last digits of fibo numbers\n",
    "    # As last digits of fibo numbers repetas weith period of 60\n",
    "    # getting last digit squares into list\n",
    "    list_60 = [(x**2)%10 for x in list_60]\n",
    "    \n",
    "    # get sum - f0-f59\n",
    "    perfect_bin_sum = sum(list_60)%10\n",
    "    all_perfect_bins_sum = cnt_of_perfect_bins * perfect_bin_sum\n",
    "\n",
    "    # last_digit_of_sum_of_fibonacci(3) \n",
    "    remainder_bin_sum = sum(list_60[:rem+1])%10\n",
    "\n",
    "    return (all_perfect_bins_sum+remainder_bin_sum) %10\n",
    "\n",
    "if __name__ == '__main__':\n",
    "    n = int(input())\n",
    "    print(Last_digit_sum_of_SQUARES_of_fib_numbers(n))"
   ]
  },
  {
   "cell_type": "code",
   "execution_count": 33,
   "metadata": {},
   "outputs": [
    {
     "data": {
      "text/plain": [
       "3"
      ]
     },
     "execution_count": 33,
     "metadata": {},
     "output_type": "execute_result"
    }
   ],
   "source": [
    "Last_digit_sum_of_SQUARES_of_fib_numbers(7)"
   ]
  },
  {
   "cell_type": "code",
   "execution_count": null,
   "metadata": {},
   "outputs": [],
   "source": []
  },
  {
   "cell_type": "code",
   "execution_count": null,
   "metadata": {},
   "outputs": [],
   "source": []
  }
 ],
 "metadata": {
  "kernelspec": {
   "display_name": "Python 3",
   "language": "python",
   "name": "python3"
  },
  "language_info": {
   "codemirror_mode": {
    "name": "ipython",
    "version": 3
   },
   "file_extension": ".py",
   "mimetype": "text/x-python",
   "name": "python",
   "nbconvert_exporter": "python",
   "pygments_lexer": "ipython3",
   "version": "3.7.6"
  },
  "toc": {
   "base_numbering": 1,
   "nav_menu": {},
   "number_sections": true,
   "sideBar": true,
   "skip_h1_title": false,
   "title_cell": "Table of Contents",
   "title_sidebar": "Contents",
   "toc_cell": false,
   "toc_position": {},
   "toc_section_display": true,
   "toc_window_display": true
  }
 },
 "nbformat": 4,
 "nbformat_minor": 4
}
